{
 "cells": [
  {
   "cell_type": "markdown",
   "metadata": {},
   "source": [
    "![](https://github.com/quantumgizmos/ldpc/workflows/Build/badge.svg)\n",
    "\n",
    "# LDPC\n",
    "This module provides a suite of tools for building and benmarking low density parity check (LDPC) codes. Features include functions for mod2 (binary) arithmatic and a fast implementation of the belief propagation decoder.\n",
    "\n",
    "## Documentation\n",
    "\n",
    "The full documentation can be found [here](https://roffe.eu/software/ldpc/index.html).\n",
    "\n",
    "## Installation from PyPi (recommended method)\n",
    "\n",
    "Installtion from [PyPi](https://pypi.org/project/ldpc/) requires Python>=3.8.\n",
    "To install via pip, run:\n",
    "\n",
    "```\n",
    "pip install -U ldpc\n",
    "```\n",
    "\n",
    "## Installation (from source)\n",
    "\n",
    "Installation from source requires Python>=3.6 and a local C compiler (eg. 'gcc' in Linux or 'clang' in Windows). The LDPC package can then be installed by running:\n",
    "\n",
    "```\n",
    "git clone https://github.com/quantumgizmos/ldpc.git\n",
    "cd ldpc\n",
    "pip install -e ldpc\n",
    "```\n",
    "\n",
    "## Dependencies\n",
    "This package makes use of the `mod2sparse` data structure from Radford Neal's [Software for Low Density Parity Check Codes](https://www.cs.toronto.edu/~radford/ftp/LDPC-2012-02-11/index.html) C package.\n",
    "\n",
    "## Attribution\n",
    "\n",
    "If you use this software in your research please cite as follows:\n",
    "\n",
    "```\n",
    "@software{Roffe_LDPC_Python_tools_2022,\n",
    "author = {Roffe, Joschka},\n",
    "title = {{LDPC: Python tools for low density parity check codes}},\n",
    "url = {https://pypi.org/project/ldpc/},\n",
    "year = {2022}\n",
    "}\n",
    "```\n",
    "\n",
    "If you have used the BP+OSD class for quantum error correction, please also cite the following paper:\n",
    "\n",
    "```\n",
    "@article{roffe_decoding_2020,\n",
    "   title={Decoding across the quantum low-density parity-check code landscape},\n",
    "   volume={2},\n",
    "   ISSN={2643-1564},\n",
    "   url={http://dx.doi.org/10.1103/PhysRevResearch.2.043423},\n",
    "   DOI={10.1103/physrevresearch.2.043423},\n",
    "   number={4},\n",
    "   journal={Physical Review Research},\n",
    "   publisher={American Physical Society (APS)},\n",
    "   author={Roffe, Joschka and White, David R. and Burton, Simon and Campbell, Earl},\n",
    "   year={2020},\n",
    "   month={Dec}\n",
    "}\n",
    "```"
   ]
  }
 ],
 "metadata": {
  "interpreter": {
   "hash": "3b13851432b22d6f1e5694c9da7f80ec6c6b2b7f955aecf4f28cb697779c3947"
  },
  "kernelspec": {
   "display_name": "Python 3.7.11 64-bit ('ldpc': conda)",
   "name": "python3"
  },
  "language_info": {
   "codemirror_mode": {
    "name": "ipython",
    "version": 3
   },
   "file_extension": ".py",
   "mimetype": "text/x-python",
   "name": "python",
   "nbconvert_exporter": "python",
   "pygments_lexer": "ipython3",
   "version": "3.9.7"
  }
 },
 "nbformat": 4,
 "nbformat_minor": 4
}
